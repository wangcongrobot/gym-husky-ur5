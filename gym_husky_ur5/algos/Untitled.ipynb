{
 "cells": [
  {
   "cell_type": "code",
   "execution_count": null,
   "metadata": {},
   "outputs": [
    {
     "name": "stdout",
     "output_type": "stream",
     "text": [
      "Collecting baselines\n",
      "Collecting gym[atari,classic_control,mujoco,robotics] (from baselines)\n",
      "Collecting click (from baselines)\n",
      "  Using cached https://files.pythonhosted.org/packages/fa/37/45185cb5abbc30d7257104c434fe0b07e5a195a6847506c074527aa599ec/Click-7.0-py2.py3-none-any.whl\n",
      "Collecting cloudpickle (from baselines)\n",
      "  Using cached https://files.pythonhosted.org/packages/c1/49/334e279caa3231255725c8e860fa93e72083567625573421db8875846c14/cloudpickle-1.2.2-py2.py3-none-any.whl\n",
      "Collecting scipy (from baselines)\n",
      "  Using cached https://files.pythonhosted.org/packages/1e/9c/4d7a573d49c449c95d33df6648a62a522ec46403f13ffe2c8cd3f094f746/scipy-1.3.3-cp35-cp35m-manylinux1_x86_64.whl\n",
      "Collecting tensorflow>=1.4.0 (from baselines)\n",
      "  Using cached https://files.pythonhosted.org/packages/7c/fb/7b2c5b3e85ad335b53ca67deb2ef4af574dc0a8759f43b7f45e15005e449/tensorflow-1.14.0-cp35-cp35m-manylinux1_x86_64.whl\n",
      "Collecting tqdm (from baselines)\n",
      "  Using cached https://files.pythonhosted.org/packages/a5/13/cd55c23e3e158ed5b87cae415ee3844fc54cb43803fa3a0a064d23ecb883/tqdm-4.40.0-py2.py3-none-any.whl\n",
      "Collecting progressbar2 (from baselines)\n",
      "  Using cached https://files.pythonhosted.org/packages/16/68/adc395e0a3c86571081c8a2e2daaa5b58270f6854276a089a0e9b5fa2c33/progressbar2-3.47.0-py2.py3-none-any.whl\n",
      "Collecting dill (from baselines)\n",
      "Collecting joblib (from baselines)\n",
      "  Using cached https://files.pythonhosted.org/packages/8f/42/155696f85f344c066e17af287359c9786b436b1bf86029bb3411283274f3/joblib-0.14.0-py2.py3-none-any.whl\n",
      "Collecting zmq (from baselines)\n",
      "Collecting mpi4py (from baselines)\n",
      "Collecting numpy>=1.10.4 (from gym[atari,classic_control,mujoco,robotics]->baselines)\n",
      "  Using cached https://files.pythonhosted.org/packages/ab/e9/2561dbfbc05146bffa02167e09b9902e273decb2dc4cd5c43314ede20312/numpy-1.17.4-cp35-cp35m-manylinux1_x86_64.whl\n",
      "Collecting six (from gym[atari,classic_control,mujoco,robotics]->baselines)\n",
      "  Using cached https://files.pythonhosted.org/packages/65/26/32b8464df2a97e6dd1b656ed26b2c194606c16fe163c695a992b36c11cdf/six-1.13.0-py2.py3-none-any.whl\n",
      "Collecting opencv-python (from gym[atari,classic_control,mujoco,robotics]->baselines)\n",
      "  Using cached https://files.pythonhosted.org/packages/59/dc/f4a3c35673512e3bfaa48c4e3b6c1bc3e262a8a2bfc9ffef986780d15ad3/opencv_python-4.1.2.30-cp35-cp35m-manylinux1_x86_64.whl\n",
      "Collecting pyglet<=1.3.2,>=1.2.0 (from gym[atari,classic_control,mujoco,robotics]->baselines)\n",
      "  Using cached https://files.pythonhosted.org/packages/1c/fc/dad5eaaab68f0c21e2f906a94ddb98175662cc5a654eee404d59554ce0fa/pyglet-1.3.2-py2.py3-none-any.whl\n",
      "Collecting atari-py~=0.2.0; extra == \"atari\" (from gym[atari,classic_control,mujoco,robotics]->baselines)\n",
      "  Using cached https://files.pythonhosted.org/packages/b5/1c/3546e352a923f6877dcb4f40ccfaea5f2f3de694fbb56c081ea7eb2167f6/atari_py-0.2.6-cp35-cp35m-manylinux1_x86_64.whl\n",
      "Collecting Pillow; extra == \"atari\" (from gym[atari,classic_control,mujoco,robotics]->baselines)\n",
      "  Using cached https://files.pythonhosted.org/packages/dc/bd/ba64273d3fdeb68c74b040e3e42f5a3c2f643e8e65b0b1ad0b18425ed67a/Pillow-6.2.1-cp35-cp35m-manylinux1_x86_64.whl\n",
      "Collecting imageio; extra == \"mujoco\" (from gym[atari,classic_control,mujoco,robotics]->baselines)\n",
      "  Using cached https://files.pythonhosted.org/packages/1a/de/f7f985018f462ceeffada7f6e609919fbcc934acd9301929cba14bc2c24a/imageio-2.6.1-py3-none-any.whl\n",
      "Collecting mujoco-py<2.0,>=1.50; extra == \"mujoco\" (from gym[atari,classic_control,mujoco,robotics]->baselines)\n",
      "Collecting tensorboard<1.15.0,>=1.14.0 (from tensorflow>=1.4.0->baselines)\n",
      "  Using cached https://files.pythonhosted.org/packages/91/2d/2ed263449a078cd9c8a9ba50ebd50123adf1f8cfbea1492f9084169b89d9/tensorboard-1.14.0-py3-none-any.whl\n",
      "Collecting astor>=0.6.0 (from tensorflow>=1.4.0->baselines)\n",
      "  Using cached https://files.pythonhosted.org/packages/d1/4f/950dfae467b384fc96bc6469de25d832534f6b4441033c39f914efd13418/astor-0.8.0-py2.py3-none-any.whl\n",
      "Collecting tensorflow-estimator<1.15.0rc0,>=1.14.0rc0 (from tensorflow>=1.4.0->baselines)\n",
      "  Using cached https://files.pythonhosted.org/packages/3c/d5/21860a5b11caf0678fbc8319341b0ae21a07156911132e0e71bffed0510d/tensorflow_estimator-1.14.0-py2.py3-none-any.whl\n",
      "Collecting keras-applications>=1.0.6 (from tensorflow>=1.4.0->baselines)\n",
      "  Using cached https://files.pythonhosted.org/packages/71/e3/19762fdfc62877ae9102edf6342d71b28fbfd9dea3d2f96a882ce099b03f/Keras_Applications-1.0.8-py3-none-any.whl\n",
      "Collecting wheel>=0.26 (from tensorflow>=1.4.0->baselines)\n",
      "  Using cached https://files.pythonhosted.org/packages/00/83/b4a77d044e78ad1a45610eb88f745be2fd2c6d658f9798a15e384b7d57c9/wheel-0.33.6-py2.py3-none-any.whl\n",
      "Collecting grpcio>=1.8.6 (from tensorflow>=1.4.0->baselines)\n",
      "  Using cached https://files.pythonhosted.org/packages/9c/09/080fed4d49bf819e7dce64c812a336a70d5a5e0774a2fb10f67a7b36dd07/grpcio-1.25.0-cp35-cp35m-manylinux1_x86_64.whl\n",
      "Collecting keras-preprocessing>=1.0.5 (from tensorflow>=1.4.0->baselines)\n",
      "  Using cached https://files.pythonhosted.org/packages/28/6a/8c1f62c37212d9fc441a7e26736df51ce6f0e38455816445471f10da4f0a/Keras_Preprocessing-1.1.0-py2.py3-none-any.whl\n",
      "Collecting wrapt>=1.11.1 (from tensorflow>=1.4.0->baselines)\n",
      "Collecting termcolor>=1.1.0 (from tensorflow>=1.4.0->baselines)\n",
      "Collecting gast>=0.2.0 (from tensorflow>=1.4.0->baselines)\n",
      "Collecting protobuf>=3.6.1 (from tensorflow>=1.4.0->baselines)\n",
      "  Using cached https://files.pythonhosted.org/packages/c1/1b/fb8a213ee760ae8b5a66b14babebe40d448843f81bf4777f7375b3d387ed/protobuf-3.11.0-cp35-cp35m-manylinux1_x86_64.whl\n",
      "Collecting google-pasta>=0.1.6 (from tensorflow>=1.4.0->baselines)\n",
      "  Using cached https://files.pythonhosted.org/packages/c3/fd/1e86bc4837cc9a3a5faf3db9b1854aa04ad35b5f381f9648fbe81a6f94e4/google_pasta-0.1.8-py3-none-any.whl\n",
      "Collecting absl-py>=0.7.0 (from tensorflow>=1.4.0->baselines)\n",
      "Collecting python-utils>=2.3.0 (from progressbar2->baselines)\n",
      "  Using cached https://files.pythonhosted.org/packages/eb/a0/19119d8b7c05be49baf6c593f11c432d571b70d805f2fe94c0585e55e4c8/python_utils-2.3.0-py2.py3-none-any.whl\n",
      "Collecting pyzmq (from zmq->baselines)\n",
      "  Using cached https://files.pythonhosted.org/packages/de/12/2e643c8e2edd332c1a230b2cc546f669b8fca53bfdeb2376773aa2571af9/pyzmq-18.1.1-cp35-cp35m-manylinux1_x86_64.whl\n",
      "Collecting future (from pyglet<=1.3.2,>=1.2.0->gym[atari,classic_control,mujoco,robotics]->baselines)\n",
      "Collecting Cython>=0.27.2 (from mujoco-py<2.0,>=1.50; extra == \"mujoco\"->gym[atari,classic_control,mujoco,robotics]->baselines)\n",
      "  Using cached https://files.pythonhosted.org/packages/57/a7/90eda986421c74b104ec35f84d4a7fbaa57cc7d8edc0865615695156a0df/Cython-0.29.14-cp35-cp35m-manylinux1_x86_64.whl\n",
      "Collecting cffi>=1.10 (from mujoco-py<2.0,>=1.50; extra == \"mujoco\"->gym[atari,classic_control,mujoco,robotics]->baselines)\n",
      "  Using cached https://files.pythonhosted.org/packages/a8/8d/986e0c4e2aa3b24db56a0affc50d1a379150e3c4da45d51d549dc2697d53/cffi-1.13.2-cp35-cp35m-manylinux1_x86_64.whl\n",
      "Collecting lockfile>=0.12.2 (from mujoco-py<2.0,>=1.50; extra == \"mujoco\"->gym[atari,classic_control,mujoco,robotics]->baselines)\n",
      "  Using cached https://files.pythonhosted.org/packages/c8/22/9460e311f340cb62d26a38c419b1381b8593b0bb6b5d1f056938b086d362/lockfile-0.12.2-py2.py3-none-any.whl\n",
      "Collecting glfw>=1.4.0 (from mujoco-py<2.0,>=1.50; extra == \"mujoco\"->gym[atari,classic_control,mujoco,robotics]->baselines)\n",
      "Collecting setuptools>=41.0.0 (from tensorboard<1.15.0,>=1.14.0->tensorflow>=1.4.0->baselines)\n",
      "  Using cached https://files.pythonhosted.org/packages/54/28/c45d8b54c1339f9644b87663945e54a8503cfef59cf0f65b3ff5dd17cf64/setuptools-42.0.2-py2.py3-none-any.whl\n",
      "Collecting werkzeug>=0.11.15 (from tensorboard<1.15.0,>=1.14.0->tensorflow>=1.4.0->baselines)\n",
      "  Using cached https://files.pythonhosted.org/packages/ce/42/3aeda98f96e85fd26180534d36570e4d18108d62ae36f87694b476b83d6f/Werkzeug-0.16.0-py2.py3-none-any.whl\n",
      "Collecting markdown>=2.6.8 (from tensorboard<1.15.0,>=1.14.0->tensorflow>=1.4.0->baselines)\n",
      "  Using cached https://files.pythonhosted.org/packages/c0/4e/fd492e91abdc2d2fcb70ef453064d980688762079397f779758e055f6575/Markdown-3.1.1-py2.py3-none-any.whl\n",
      "Collecting h5py (from keras-applications>=1.0.6->tensorflow>=1.4.0->baselines)\n"
     ]
    },
    {
     "name": "stdout",
     "output_type": "stream",
     "text": [
      "  Using cached https://files.pythonhosted.org/packages/10/56/d5c53cd170529bb40cd7dd43e2b68944cb65a45f65ab4c78a68f4ac9e51e/h5py-2.10.0-cp35-cp35m-manylinux1_x86_64.whl\n",
      "Collecting pycparser (from cffi>=1.10->mujoco-py<2.0,>=1.50; extra == \"mujoco\"->gym[atari,classic_control,mujoco,robotics]->baselines)\n",
      "Installing collected packages: numpy, six, scipy, opencv-python, future, pyglet, cloudpickle, atari-py, Pillow, imageio, Cython, pycparser, cffi, lockfile, glfw, mujoco-py, gym, click, setuptools, protobuf, werkzeug, grpcio, absl-py, wheel, markdown, tensorboard, astor, tensorflow-estimator, h5py, keras-applications, keras-preprocessing, wrapt, termcolor, gast, google-pasta, tensorflow, tqdm, python-utils, progressbar2, dill, joblib, pyzmq, zmq, mpi4py, baselines\n"
     ]
    }
   ],
   "source": [
    "pip install baselines"
   ]
  },
  {
   "cell_type": "code",
   "execution_count": null,
   "metadata": {},
   "outputs": [],
   "source": [
    "import baselines"
   ]
  },
  {
   "cell_type": "code",
   "execution_count": null,
   "metadata": {},
   "outputs": [],
   "source": []
  }
 ],
 "metadata": {
  "kernelspec": {
   "display_name": "Python 3",
   "language": "python",
   "name": "python3"
  },
  "language_info": {
   "codemirror_mode": {
    "name": "ipython",
    "version": 3
   },
   "file_extension": ".py",
   "mimetype": "text/x-python",
   "name": "python",
   "nbconvert_exporter": "python",
   "pygments_lexer": "ipython3",
   "version": "3.5.2"
  }
 },
 "nbformat": 4,
 "nbformat_minor": 2
}
