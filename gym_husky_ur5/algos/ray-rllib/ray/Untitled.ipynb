{
 "cells": [
  {
   "cell_type": "code",
   "execution_count": 1,
   "metadata": {
    "scrolled": false
   },
   "outputs": [
    {
     "ename": "SyntaxError",
     "evalue": "invalid syntax (<ipython-input-1-843e91a68647>, line 21)",
     "output_type": "error",
     "traceback": [
      "\u001b[0;36m  File \u001b[0;32m\"<ipython-input-1-843e91a68647>\"\u001b[0;36m, line \u001b[0;32m21\u001b[0m\n\u001b[0;31m    ray.init(redis_address=137.195.183.53)\u001b[0m\n\u001b[0m                                     ^\u001b[0m\n\u001b[0;31mSyntaxError\u001b[0m\u001b[0;31m:\u001b[0m invalid syntax\n"
     ]
    }
   ],
   "source": [
    "import gym\n",
    "import numpy as np\n",
    "import time\n",
    "import gym_husky_ur5\n",
    "\n",
    "# serial version\n",
    "def run1():\n",
    "    env = gym.make(\"FetchReach-v1\")\n",
    "    env.reset()\n",
    "    steps = []\n",
    "    for _ in range(100):\n",
    "        steps += [env.step(env.action_space.sample())]\n",
    "    return len(steps)\n",
    "\n",
    "# %time result = [run1() for i in range(1000)]\n",
    "# print(sum(result))\n",
    "\n",
    "\n",
    "# parallel version\n",
    "import ray\n",
    "ray.init(redis_address=137.195.183.53)\n",
    "\n",
    "@ray.remote\n",
    "def run2():  # same as run1 \n",
    "    env = gym.make(\"FetchPickAndPlace-v1\")\n",
    "    env.reset()\n",
    "    steps = []\n",
    "    for _ in range(100):\n",
    "        steps += [env.step(env.action_space.sample())]\n",
    "    return len(steps)\n",
    "\n",
    "# note: maybe run this twice to warmup the system\n",
    "%time result = ray.get([run2.remote() for i in range(1000)])\n",
    "print(sum(result))\n"
   ]
  },
  {
   "cell_type": "code",
   "execution_count": null,
   "metadata": {},
   "outputs": [],
   "source": []
  },
  {
   "cell_type": "code",
   "execution_count": null,
   "metadata": {},
   "outputs": [],
   "source": []
  }
 ],
 "metadata": {
  "kernelspec": {
   "display_name": "Python 3",
   "language": "python",
   "name": "python3"
  },
  "language_info": {
   "codemirror_mode": {
    "name": "ipython",
    "version": 3
   },
   "file_extension": ".py",
   "mimetype": "text/x-python",
   "name": "python",
   "nbconvert_exporter": "python",
   "pygments_lexer": "ipython3",
   "version": "3.5.2"
  }
 },
 "nbformat": 4,
 "nbformat_minor": 2
}
